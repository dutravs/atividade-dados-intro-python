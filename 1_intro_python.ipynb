{
  "nbformat": 4,
  "nbformat_minor": 0,
  "metadata": {
    "kernelspec": {
      "display_name": "Python 3",
      "language": "python",
      "name": "python3"
    },
    "language_info": {
      "codemirror_mode": {
        "name": "ipython",
        "version": 3
      },
      "file_extension": ".py",
      "mimetype": "text/x-python",
      "name": "python",
      "nbconvert_exporter": "python",
      "pygments_lexer": "ipython3",
      "version": "3.7.4"
    },
    "colab": {
      "name": "1_intro_python.ipynb",
      "provenance": [],
      "collapsed_sections": []
    }
  },
  "cells": [
    {
      "cell_type": "markdown",
      "metadata": {
        "id": "4NpNEHwgG-xs",
        "colab_type": "text"
      },
      "source": [
        "# Bem-Vindo ao Mundo Python!"
      ]
    },
    {
      "cell_type": "markdown",
      "metadata": {
        "id": "NfkpbPJoG-xy",
        "colab_type": "text"
      },
      "source": [
        "## Variáveis e Tipos\n",
        "* Variáveis são **Locais de Memória**;\n",
        "* Os nomes de variáveis devem ser **mnemônicos**, ou seja, de **fácil memorização**;\n",
        "* Variáveis em Python são **\"Case-sensitive\"** e devem escritas com letras minúsculas, sem qualquer tipo de acentuação gráfica;\n",
        "* Nomes compostos de variáveis devem ser separados por subtraço, por exemplo: nome_variavel_composta;\n",
        "* Python é uma linguagem *dinamicamente tipada*, logo, não informamos o tipo de dados durante a declaração de cada variável;\n",
        "\n",
        "### Tipos de Dados Padrão\n",
        "Os tipos de dados primitivos do Python podem ser classificados como: numéricos, sequências, conjuntos e mapeamentos.\n",
        "\n",
        "*Tipos Numéricos*\n",
        "\n",
        "| Nome    | Descrição                    |  Versão               |\n",
        "|:--------|:-----------------------------|:----------------------|\n",
        "| int     | Números Inteiros             | Todas                 |\n",
        "| long    | Números inteiros Longos      | Python 2.x (Somente)  |\n",
        "| float   | Números de Ponto Flutuante   | Todas                 |\n",
        "| complex | Números Complexos            | Todas                 |\n",
        "\n",
        "*Sequências*\n",
        "\n",
        "| Nome         | Descrição                                                  |  Versão               |\n",
        "|:-------------|:-----------------------------------------------------------|:----------------------|\n",
        "| str          | Cadeia de Caracteres (String)                              | Todas                 |\n",
        "| bytes        | Sequência de números inteiros no intervalo de 0 a 255      | Python 3.x (Somente)  |\n",
        "| byte array   | Semelhante ao tipo bytes, porém, mutáveis                  | Python 3.x (Somente)  |\n",
        "| list         | Lista de itens geralmente homogêneos e mutáveis            | Todas                 |\n",
        "| tuple        | Sequência de itens heterogêneos e imutáveis                | Todas                 |\n",
        "\n",
        "*Conjuntos*\n",
        "\n",
        "| Nome       | Descrição                               |  Versão                |\n",
        "|:-----------|:----------------------------------------|:-----------------------|\n",
        "| set        | coleção não ordenada de objetos únicos  | Python 2.6 ou Superior |\n",
        "| frozen set | Semelhante ao tipo set, porém, imutável | Python 2.6 ou Superior |\n",
        "\n",
        "*Mapeamentos*\n",
        "\n",
        "| Nome       | Descrição                               |  Versão                |\n",
        "|:-----------|:----------------------------------------|:-----------------------|\n",
        "| dict       | Dicionários ou Array Associativos       | Todas                  |\n",
        "\n",
        "\n",
        "#### Objetos Mutáveis X Objetos Imutáveis\n",
        "De modo geral, os tipos de dados em Python podem ser diferenciados como mutáveis e imutáveis.\n",
        "\n",
        "- **Objetos Mutáveis:** o conteúdo pode ser alterado após sua criação;\n",
        "- **Objetos Imutáveis:** o conteúdo **não pode ser alterado** após sua criação;\n",
        "\n",
        "| Tipos Mutáveis       | Tipos Imutáveis                         |\n",
        "|:---------------------|:----------------------------------------|\n",
        "| array                | int, float, complex                     |\n",
        "| bytearray            | str                                     |\n",
        "| list                 | bytes                                   |\n",
        "| set                  | tuple                                   |\n",
        "| dict                 | frozenset                               |\n",
        "| -                    | bool                                    |"
      ]
    },
    {
      "cell_type": "code",
      "metadata": {
        "id": "sk2IeNnNG-x0",
        "colab_type": "code",
        "colab": {}
      },
      "source": [
        "# CONVERSÃO DE TIPO\n",
        "# Aprendendo Conversão de Tipo Com Exemplos\n",
        "\n",
        "# Números Inteiros\n",
        "valor_int_1 = int(2.7) \n",
        "print(valor_int_1) # Saída: 2   \n",
        "\n",
        "valor_int_2 = int(-3.9)\n",
        "print(valor_int_2) # Saída: -3   \n",
        "\n",
        "valor_int_3 = int(\"2\")\n",
        "print(valor_int_3) # Saída: 2  \n",
        "\n",
        "\n",
        "# Números de Ponto Flutuante\n",
        "valor_float_1 = float(7)\n",
        "print(valor_float_1) # Saída: 7.0\n",
        "\n",
        "valor_float_2 = float(\"4.5\")\n",
        "print(valor_float_2) # Saída: 4.5\n",
        "\n",
        "valor_float_4 = float(\"2.7E-2\")\n",
        "print(valor_float_4) # Saída: 0.027\n",
        "\n",
        "valor_float_5 = float(False)\n",
        "print(valor_float_5) # Saída: 0.0\n",
        "\n",
        "valor_float_6 = float(True)\n",
        "print(valor_float_6) # Saída: 1.0\n",
        "\n",
        "\n",
        "# Cadeia de Caracteres\n",
        "valor_string_1 = str(4.5)\n",
        "print(valor_string_1) # Saída: 4.5\n",
        "\n",
        "valor_string_2 = str([1, 2, 3, 4, 5])\n",
        "print(valor_string_2) # Saída: \"[1, 2, 3, 4, 5]\"\n",
        "\n",
        "\n",
        "# Tipos Lógicos (Booleanos)\n",
        "valor_bool_1 = bool(0)\n",
        "print(valor_bool_1) # Saída: False\n",
        "\n",
        "valor_bool_2 = bool(1)\n",
        "print(valor_bool_2) # Saída: True\n",
        "\n",
        "valor_bool_3 = bool([])\n",
        "print(valor_bool_3) # Saída: False - Lista Vazia\n",
        "\n",
        "valor_bool_4 = bool([False])\n",
        "print(valor_bool_4) # Saída: True - Lista Não Vazia\n",
        "\n",
        "valor_bool_5 = bool({})\n",
        "print(valor_bool_5) # Saída: False - Dicionário Vazio, o mesmo para Tupla\n",
        "\n",
        "valor_bool_6 = bool(\"\")\n",
        "print(valor_bool_6) # Saída: False - String Vazia\n",
        "\n",
        "valor_bool_7 = bool(\" \")\n",
        "print(valor_bool_7) # Saída: True - String Não Vazia\n",
        "\n",
        "valor_bool_8 = bool(None)\n",
        "print(valor_bool_8) # Saída: False\n",
        "\n",
        "valor_bool_9 = bool(len)\n",
        "print(valor_bool_9) # Saída: True\n",
        "\n",
        "# Listas e Conjuntos\n",
        "conjunto = set([1, 2])\n",
        "lista = list(conjunto)\n",
        "print(conjunto) # Saída: {1, 2}\n",
        "print(lista)    # Saída: [1, 2]\n",
        "\n",
        "valor_lista_1 = list({0: \"Python\", 1: \"R\"}) # dict: Lista de chaves\n",
        "print(valor_lista_1) # Saída: [0, 1]\n",
        "\n",
        "tupla = tuple(lista)\n",
        "print(tupla) # Saída: (1, 2)\n",
        "\n",
        "valor_lista_2 = list(\"ABC\")\n",
        "print(valor_lista_2) # Saída: ['A', 'B', 'C']"
      ],
      "execution_count": 0,
      "outputs": []
    },
    {
      "cell_type": "markdown",
      "metadata": {
        "id": "zv9Q_pNXG-x7",
        "colab_type": "text"
      },
      "source": [
        "## Exercício 1\n",
        "*Calculando o IMC*\n",
        "\n",
        "O Índice de Massa Corporal (IMC) é uma medida internacional usada para calcular se uma pessoa está em seu peso ideal.\n",
        "O cálculo do IMC é determinado pela divisão da massa do indivíduo em quilogramas pelo quadrado de sua altura em metros.\n",
        "\n",
        "\n",
        "\n",
        "$$IMC=\\frac{massa}{(altura * altura)}$$\n",
        "\n",
        "\n",
        "\n",
        "Escreva um programa que leia do usuário sua altura e peso e calcule o seu IMC.\n"
      ]
    },
    {
      "cell_type": "code",
      "metadata": {
        "id": "9Npp6h0YG-x8",
        "colab_type": "code",
        "colab": {}
      },
      "source": [
        "# TODO: Complete o Código Abaixo\n",
        "altura = input('Altura: ')\n",
        "peso = input('  Peso: ')\n",
        "\n",
        "\n",
        "print(\"   IMC: \")"
      ],
      "execution_count": 0,
      "outputs": []
    },
    {
      "cell_type": "markdown",
      "metadata": {
        "id": "1ckAJ7rYG-yC",
        "colab_type": "text"
      },
      "source": [
        "## Operadores\n",
        "\n",
        "*Operadores Numéricos*\n",
        "\n",
        "| Operador | Descrição       |\n",
        "|:---------|:----------------|\n",
        "| +        | Adição          |\n",
        "| -        | Subtração       |\n",
        "| *        | Multiplicação   |\n",
        "| /        | Divisão         |\n",
        "| **       | Expoente        |\n",
        "| %        | Módulo          |\n",
        "| //       | Divisão de Piso |\n",
        "\n",
        "\n",
        "*Operadores de Comparação*\n",
        "\n",
        "| Operador | Descrição       |\n",
        "|:---------|:----------------|\n",
        "| ==       | Igual           |\n",
        "| !=       | Diferente       |\n",
        "| >        | Maior           |\n",
        "| <        | Menor           |\n",
        "| >=       | Maior Igual     |\n",
        "| <=       | Menor Igual     |\n",
        "\n",
        "\n",
        "*Operadores Lógicos*\n",
        "\n",
        "| Operador | Descrição       |\n",
        "|:---------|:----------------|\n",
        "| and      | AND lógico      |\n",
        "| or       | OR lógico       |\n",
        "| not      | NOT lógico      |\n",
        "\n",
        "*Caracteres Especiais*\n",
        "\n",
        "| Operador | Descrição       |\n",
        "|:---------|:----------------|\n",
        "| #        | Comentário      |\n",
        "| \\n       | Nova Linha      |\n"
      ]
    },
    {
      "cell_type": "markdown",
      "metadata": {
        "id": "_dGMKP7TG-yD",
        "colab_type": "text"
      },
      "source": [
        "## Exercícios"
      ]
    },
    {
      "cell_type": "markdown",
      "metadata": {
        "id": "HY00A0I9G-yE",
        "colab_type": "text"
      },
      "source": [
        "1. Escreva um algoritmo que imprima na tela: Olá Mundo!"
      ]
    },
    {
      "cell_type": "code",
      "metadata": {
        "id": "_n-o3sP1G-yF",
        "colab_type": "code",
        "outputId": "e1501770-9b60-41ca-d1f9-6a72efbc2541",
        "colab": {
          "base_uri": "https://localhost:8080/",
          "height": 34
        }
      },
      "source": [
        "a = str('Olá, mundo!')\n",
        "\n",
        "print(a)"
      ],
      "execution_count": 0,
      "outputs": [
        {
          "output_type": "stream",
          "text": [
            "Olá, mundo!\n"
          ],
          "name": "stdout"
        }
      ]
    },
    {
      "cell_type": "markdown",
      "metadata": {
        "id": "UNSvEO8FG-yI",
        "colab_type": "text"
      },
      "source": [
        "2. Escreva um programa que imprima seu nome na tela."
      ]
    },
    {
      "cell_type": "code",
      "metadata": {
        "id": "xB3vnVrLG-yI",
        "colab_type": "code",
        "outputId": "756ddcab-90f6-405a-97ee-422fed175dd2",
        "colab": {
          "base_uri": "https://localhost:8080/",
          "height": 34
        }
      },
      "source": [
        "a = str('Vitor Dutra de Souza')\n",
        "\n",
        "print(a)"
      ],
      "execution_count": 0,
      "outputs": [
        {
          "output_type": "stream",
          "text": [
            "Vitor Dutra de Souza\n"
          ],
          "name": "stdout"
        }
      ]
    },
    {
      "cell_type": "markdown",
      "metadata": {
        "id": "ZlKQ0Ns5G-yM",
        "colab_type": "text"
      },
      "source": [
        "3. O que o código a seguir imprime?\n",
        "\n",
        "```python\n",
        "print(\"*\\n**\\n***\\n****\\n*****\")\n",
        "```"
      ]
    },
    {
      "cell_type": "code",
      "metadata": {
        "id": "LGzf9culIteB",
        "colab_type": "code",
        "outputId": "e64411f0-089c-4531-e587-1f35d868d0ea",
        "colab": {
          "base_uri": "https://localhost:8080/",
          "height": 102
        }
      },
      "source": [
        "print(\"*\\n**\\n***\\n****\\n*****\")\n"
      ],
      "execution_count": 0,
      "outputs": [
        {
          "output_type": "stream",
          "text": [
            "*\n",
            "**\n",
            "***\n",
            "****\n",
            "*****\n"
          ],
          "name": "stdout"
        }
      ]
    },
    {
      "cell_type": "markdown",
      "metadata": {
        "id": "SVCox7RRG-yQ",
        "colab_type": "text"
      },
      "source": [
        "\n",
        "4. O que aparece na janela do console, quando cada uma das instruções abaixo são executadas, para: x = 2 e y = 3? Execute cada uma das linhas abaixos e, se necessário, faça os devidos ajustes no código.\n",
        "    1. *print(“x = ” + x);*\n",
        "    2. *print(“O valor de x + x é ” + (x + x));*\n",
        "    3. *print(“x = ”);*\n",
        "    4. *print((x + y) + “ = “ + (y + x));*\n"
      ]
    },
    {
      "cell_type": "code",
      "metadata": {
        "id": "cVBgxAMSG-yQ",
        "colab_type": "code",
        "outputId": "c55098a8-b6e1-4654-fecf-bfe9845cedb0",
        "colab": {
          "base_uri": "https://localhost:8080/",
          "height": 85
        }
      },
      "source": [
        "x = 2\n",
        "y = 3\n",
        "print('x= ' + str(x));\n",
        "print('O valor de x + x é ' + str((x + x)));\n",
        "print('x = ' +str(x));\n",
        "print(str((x + y)) + ' = ' + str((y + x)));\n",
        "\n"
      ],
      "execution_count": 0,
      "outputs": [
        {
          "output_type": "stream",
          "text": [
            "x= 2\n",
            "O valor de x + x é 4\n",
            "x = 2\n",
            "5 = 5\n"
          ],
          "name": "stdout"
        }
      ]
    },
    {
      "cell_type": "markdown",
      "metadata": {
        "id": "A0tfc7JqG-yT",
        "colab_type": "text"
      },
      "source": [
        "5. Escreva um algoritmo que imprima na tela a seguinte mensagem:\n",
        "\n",
        "> A programação é aprendida escrevendo programas - \n",
        "> Brian Kernighan\n"
      ]
    },
    {
      "cell_type": "code",
      "metadata": {
        "id": "lsUL1dhIG-yU",
        "colab_type": "code",
        "outputId": "9a43c938-453f-4d19-8060-cbf5170d4d2e",
        "colab": {
          "base_uri": "https://localhost:8080/",
          "height": 34
        }
      },
      "source": [
        "a = str('A programação é aprendida escrevendo programas - Brian Kernighan')\n",
        "\n",
        "print(a)"
      ],
      "execution_count": 0,
      "outputs": [
        {
          "output_type": "stream",
          "text": [
            "A programação é aprendida escrevendo programas - Brian Kernighan\n"
          ],
          "name": "stdout"
        }
      ]
    },
    {
      "cell_type": "markdown",
      "metadata": {
        "id": "OmyZwN21G-yX",
        "colab_type": "text"
      },
      "source": [
        "6. Crie um algoritmo que imprima o produto entre os números 25 e 27"
      ]
    },
    {
      "cell_type": "code",
      "metadata": {
        "id": "4kGJP2PkG-yY",
        "colab_type": "code",
        "outputId": "a52ab70c-b3f4-41d0-922c-d4fd3d225f2c",
        "colab": {
          "base_uri": "https://localhost:8080/",
          "height": 34
        }
      },
      "source": [
        "a = 25\n",
        "b = 27\n",
        "\n",
        "produto = a*b \n",
        "\n",
        "print(produto)"
      ],
      "execution_count": 0,
      "outputs": [
        {
          "output_type": "stream",
          "text": [
            "675\n"
          ],
          "name": "stdout"
        }
      ]
    },
    {
      "cell_type": "markdown",
      "metadata": {
        "id": "AJCi_w4eG-ya",
        "colab_type": "text"
      },
      "source": [
        "7. Crie um algoritmo que imprima a média aritmética entre os números 4, 12, 15."
      ]
    },
    {
      "cell_type": "code",
      "metadata": {
        "id": "SrBf_1PBG-yb",
        "colab_type": "code",
        "outputId": "ce345a37-1a24-4942-9b70-82f8273701b4",
        "colab": {
          "base_uri": "https://localhost:8080/",
          "height": 34
        }
      },
      "source": [
        "a = 4\n",
        "b = 12\n",
        "c = 15\n",
        "\n",
        "media = (a+b+c)/3\n",
        "\n",
        "print(media)"
      ],
      "execution_count": 0,
      "outputs": [
        {
          "output_type": "stream",
          "text": [
            "10.333333333333334\n"
          ],
          "name": "stdout"
        }
      ]
    },
    {
      "cell_type": "markdown",
      "metadata": {
        "id": "9ZqCJBtVG-ye",
        "colab_type": "text"
      },
      "source": [
        "8. Faça um programa que leia um número inteiro e mostre-o na tela da seguinte forma: \n",
        "\n",
        "> O número inteiro digitado foi 4."
      ]
    },
    {
      "cell_type": "code",
      "metadata": {
        "id": "cq3kCg_uG-yf",
        "colab_type": "code",
        "outputId": "957e2934-7f0d-4e06-8bb6-35709e39ec69",
        "colab": {
          "base_uri": "https://localhost:8080/",
          "height": 51
        }
      },
      "source": [
        "a = int(input('Digite um número inteiro: '))\n",
        "\n",
        "print('O número inteiro digitado foi: '+ str(a))"
      ],
      "execution_count": 0,
      "outputs": [
        {
          "output_type": "stream",
          "text": [
            "Digite um número inteiro: 5\n",
            "O número inteiro digitado foi: 5\n"
          ],
          "name": "stdout"
        }
      ]
    },
    {
      "cell_type": "markdown",
      "metadata": {
        "id": "VTHZWRQRG-yi",
        "colab_type": "text"
      },
      "source": [
        "9. Faça um programa que leia e imprima dois números inteiros na tela."
      ]
    },
    {
      "cell_type": "code",
      "metadata": {
        "id": "PvkDSwMzG-yi",
        "colab_type": "code",
        "outputId": "8a7ddb0d-6a75-4d97-a97b-32f6f72cbc44",
        "colab": {
          "base_uri": "https://localhost:8080/",
          "height": 68
        }
      },
      "source": [
        "a = int(input('Digite um número: '))\n",
        "b = int(input('Digite outro número: '))\n",
        "\n",
        "print('Os números digitados são '+str(a)+','+str(b))"
      ],
      "execution_count": 0,
      "outputs": [
        {
          "output_type": "stream",
          "text": [
            "Digite um número: 1\n",
            "Digite outro número: 2\n",
            "Os números digitados são 1,2\n"
          ],
          "name": "stdout"
        }
      ]
    },
    {
      "cell_type": "markdown",
      "metadata": {
        "id": "BwJBvB0AG-yo",
        "colab_type": "text"
      },
      "source": [
        "10. Faça um programa que leia um número inteiro e imprima seu número sucessor e antecessor."
      ]
    },
    {
      "cell_type": "code",
      "metadata": {
        "id": "pdaGKcEDG-yp",
        "colab_type": "code",
        "outputId": "5dcd711a-5aae-44f5-cfbe-da38bdaa174f",
        "colab": {
          "base_uri": "https://localhost:8080/",
          "height": 51
        }
      },
      "source": [
        "a = int(input('Digite um número: '))\n",
        "scs = (a+1)\n",
        "ant = (a-1)\n",
        "\n",
        "print(str(ant),str(a),str(scs))"
      ],
      "execution_count": 0,
      "outputs": [
        {
          "output_type": "stream",
          "text": [
            "Digite um número: 5\n",
            "4 5 6\n"
          ],
          "name": "stdout"
        }
      ]
    },
    {
      "cell_type": "markdown",
      "metadata": {
        "id": "sjv1CZirG-yr",
        "colab_type": "text"
      },
      "source": [
        "11. Faça um programa que leia o nome, endereço e telefone de um usuário e imprima na tela."
      ]
    },
    {
      "cell_type": "code",
      "metadata": {
        "id": "6XrMC8_4G-ys",
        "colab_type": "code",
        "outputId": "00459188-a1cc-469e-ee48-ca78416cefb4",
        "colab": {
          "base_uri": "https://localhost:8080/",
          "height": 119
        }
      },
      "source": [
        "a = str(input('Digite seu nome: '))\n",
        "b = str(input('Digite seu endereço: '))\n",
        "c = int(input('Digite seu telefone: '))\n",
        "\n",
        "print('Seu nome é: '+a)\n",
        "print('Seu endereço é: '+b)\n",
        "print('Seu telefone é: '+str(c))"
      ],
      "execution_count": 0,
      "outputs": [
        {
          "output_type": "stream",
          "text": [
            "Digite seu nome: Vitor\n",
            "Digite seu endereço: aaaa\n",
            "Digite seu telefone: 3232132131\n",
            "Seu nome é: Vitor\n",
            "Seu endereço é: aaaa\n",
            "Seu telefone é: 3232132131\n"
          ],
          "name": "stdout"
        }
      ]
    },
    {
      "cell_type": "markdown",
      "metadata": {
        "id": "-QZJZRQDG-yu",
        "colab_type": "text"
      },
      "source": [
        "12. Faça um programa que leia e multiplique dois números inteiros."
      ]
    },
    {
      "cell_type": "code",
      "metadata": {
        "id": "PC82H8vkG-yv",
        "colab_type": "code",
        "outputId": "7d3b7a3c-45c6-4d0c-8fc0-d4937686a3e8",
        "colab": {
          "base_uri": "https://localhost:8080/",
          "height": 68
        }
      },
      "source": [
        "a = int(input('Digite um número: '))\n",
        "b = int(input('Digite outro número: '))\n",
        "mult = (a*b)\n",
        "\n",
        "print('O resultado da muultiplicação é '+str(mult))"
      ],
      "execution_count": 0,
      "outputs": [
        {
          "output_type": "stream",
          "text": [
            "Digite um número: 2\n",
            "Digite outro número: 2\n",
            "O resultado da muultiplicação é 4\n"
          ],
          "name": "stdout"
        }
      ]
    },
    {
      "cell_type": "markdown",
      "metadata": {
        "id": "1TwB23YfG-yx",
        "colab_type": "text"
      },
      "source": [
        "13. Faça um programa que leia um número real e imprima a terça parte deste número."
      ]
    },
    {
      "cell_type": "code",
      "metadata": {
        "id": "sl7CFqJgG-yy",
        "colab_type": "code",
        "outputId": "c519cea9-0d50-4d13-98de-938a1e6cf6d7",
        "colab": {
          "base_uri": "https://localhost:8080/",
          "height": 51
        }
      },
      "source": [
        "a = int(input('Digite um número: '))\n",
        "part = (a/3)\n",
        "\n",
        "print('A terça parte de '+str(a)+' é '+str(part))"
      ],
      "execution_count": 0,
      "outputs": [
        {
          "output_type": "stream",
          "text": [
            "Digite um número: 12\n",
            "A terça parte de 12 é 4.0\n"
          ],
          "name": "stdout"
        }
      ]
    },
    {
      "cell_type": "markdown",
      "metadata": {
        "id": "Q4PNa_HYG-y0",
        "colab_type": "text"
      },
      "source": [
        "14. Faça um programa que leia dois números inteiros e imprima o dividendo, divisor, quociente e resto da divisão"
      ]
    },
    {
      "cell_type": "code",
      "metadata": {
        "id": "6YG4QReMG-y1",
        "colab_type": "code",
        "outputId": "82dc62e0-101f-4b9b-818a-163df99db092",
        "colab": {
          "base_uri": "https://localhost:8080/",
          "height": 68
        }
      },
      "source": [
        "a = int(input('Digite o dividendo: '))\n",
        "b = int(input('Digite o divisor: '))\n",
        "\n",
        "div = a/b\n",
        "rest = a%b\n",
        "\n",
        "print('O dividendo é '+str(a)+', o divisor é '+str(b)+', o resto da divisão é '\n",
        "+str(rest)+' e o quociente é '+str(div))"
      ],
      "execution_count": 0,
      "outputs": [
        {
          "output_type": "stream",
          "text": [
            "Digite o dividendo: 10\n",
            "Digite o divisor: 5\n",
            "O dividendo é 10, o divisor é 5, o resto da divisão é 0 e o quociente é 2.0\n"
          ],
          "name": "stdout"
        }
      ]
    },
    {
      "cell_type": "markdown",
      "metadata": {
        "id": "qVM1WpdBG-y3",
        "colab_type": "text"
      },
      "source": [
        "15. Escreva um programa que solicite do usuário dois números, e imprima o resultado da soma, subtração, multiplicação e divisão."
      ]
    },
    {
      "cell_type": "code",
      "metadata": {
        "id": "Yx7OWo1KG-y4",
        "colab_type": "code",
        "outputId": "875cc382-5e20-4b8b-bd3e-fbcfe313f795",
        "colab": {
          "base_uri": "https://localhost:8080/",
          "height": 68
        }
      },
      "source": [
        "a = int(input('Digite um número: '))\n",
        "b = int(input('Digite um número: '))\n",
        "\n",
        "soma = (a+b)\n",
        "subtracao = (a-b)\n",
        "multi = (a*b)\n",
        "divi = (a/b)\n",
        "\n",
        "print('A soma dos dois números é '+str(soma)+', a subtração é '+str(subtracao)\n",
        "+', a multiplicação é '+str(multi)+', e a divisão é '+str(divi))"
      ],
      "execution_count": 0,
      "outputs": [
        {
          "output_type": "stream",
          "text": [
            "Digite um número: 6\n",
            "Digite um número: 3\n",
            "A soma dos dois números é 9, a subtração é 3, a multiplicação é 18, e a divisão é 2.0\n"
          ],
          "name": "stdout"
        }
      ]
    },
    {
      "cell_type": "markdown",
      "metadata": {
        "id": "68Tf8gaiG-y7",
        "colab_type": "text"
      },
      "source": [
        "16. Faça um programa que leia quatro números inteiros, calcule e mostre a soma desses números."
      ]
    },
    {
      "cell_type": "code",
      "metadata": {
        "id": "Vz4kBFHSG-y8",
        "colab_type": "code",
        "outputId": "c2f911e8-7a2e-4099-9be3-78d115a41f7f",
        "colab": {
          "base_uri": "https://localhost:8080/",
          "height": 102
        }
      },
      "source": [
        "a = int(input('Digite o número inteiro: '))\n",
        "b = int(input('Digite o número inteiro: '))\n",
        "c = int(input('Digite o número inteiro: '))\n",
        "d = int(input('Digite o número inteiro: '))\n",
        "\n",
        "soma = (a+b+c+d)\n",
        "\n",
        "print('A soma total dos quatro números é '+str(soma))\n"
      ],
      "execution_count": 0,
      "outputs": [
        {
          "output_type": "stream",
          "text": [
            "Digite o número inteiro: 2\n",
            "Digite o número inteiro: 2\n",
            "Digite o número inteiro: 2\n",
            "Digite o número inteiro: 2\n",
            "A soma total dos quatro números é 8\n"
          ],
          "name": "stdout"
        }
      ]
    },
    {
      "cell_type": "markdown",
      "metadata": {
        "id": "EbsJaZ36G-y-",
        "colab_type": "text"
      },
      "source": [
        "17. Faça um programa que receba três notas, calcule e mostre a média aritmética."
      ]
    },
    {
      "cell_type": "code",
      "metadata": {
        "id": "FXmyZKroG-y_",
        "colab_type": "code",
        "outputId": "f241154f-0cd6-4a76-a1c2-a44a9cb275dc",
        "colab": {
          "base_uri": "https://localhost:8080/",
          "height": 85
        }
      },
      "source": [
        "a = float(input('Digite a primeira nota: '))\n",
        "b = float(input('Digite a segunda nota: '))\n",
        "c = float(input('Digite a terceira nota: '))\n",
        "\n",
        "media = (a+b+c)/3\n",
        "\n",
        "print('A média aritmética é '+str(media))"
      ],
      "execution_count": 0,
      "outputs": [
        {
          "output_type": "stream",
          "text": [
            "Digite a primeira: 5\n",
            "Digite a primeira: 5\n",
            "Digite a primeira: 5\n",
            "A média aritmética é 5.0\n"
          ],
          "name": "stdout"
        }
      ]
    },
    {
      "cell_type": "markdown",
      "metadata": {
        "id": "2qBN6TMxG-zC",
        "colab_type": "text"
      },
      "source": [
        "18. Faça um programa que receba três notas e seus respectivos pesos, calcule e mostre a média ponderada."
      ]
    },
    {
      "cell_type": "code",
      "metadata": {
        "id": "QYguGfAjG-zC",
        "colab_type": "code",
        "outputId": "65340e96-b65b-4632-e39e-56be600d29ea",
        "colab": {
          "base_uri": "https://localhost:8080/",
          "height": 136
        }
      },
      "source": [
        "a = float(input('Digite a primeira nota: '))\n",
        "b = float(input('Digite o peso da nota: '))\n",
        "c = float(input('Digite a segunda nota: '))\n",
        "d = float(input('Digite o peso da nota: '))\n",
        "e = float(input('Digite a terceira nota: '))\n",
        "f = float(input('Digite o peso da nota: '))\n",
        "\n",
        "nota = (a*b)+(c*d)+(e*f)\n",
        "peso = (b+d+f)\n",
        "mediapon = (nota/peso)\n",
        "\n",
        "print('Sua média ponderada é '+str(mediapon))"
      ],
      "execution_count": 0,
      "outputs": [
        {
          "output_type": "stream",
          "text": [
            "Digite a primeira nota: 10\n",
            "Digite o peso da nota: 3\n",
            "Digite a segunda nota: 10\n",
            "Digite o peso da nota: 3\n",
            "Digite a terceira nota: 10\n",
            "Digite o peso da nota: 3\n",
            "Sua média ponderada é 10.0\n"
          ],
          "name": "stdout"
        }
      ]
    },
    {
      "cell_type": "markdown",
      "metadata": {
        "id": "2mLN53X3G-zF",
        "colab_type": "text"
      },
      "source": [
        "19. Faça um programa que receba o salário de um funcionário, calcule e mostre o novo salário, sabendo-se que este sofreu um aumento de 25%."
      ]
    },
    {
      "cell_type": "code",
      "metadata": {
        "id": "8nPZlSzEG-zG",
        "colab_type": "code",
        "outputId": "7ff0c6f7-9b7f-465c-f88b-5be26f952ad6",
        "colab": {
          "base_uri": "https://localhost:8080/",
          "height": 51
        }
      },
      "source": [
        "a = float(input('Digite seu salário: '))\n",
        "\n",
        "aumento = 25/100\n",
        "novosal = a+(a*aumento)\n",
        "\n",
        "print('Seu novo salário é '+ str(novosal))"
      ],
      "execution_count": 0,
      "outputs": [
        {
          "output_type": "stream",
          "text": [
            "Digite seu salário: 2.500\n",
            "Seu novo salário é 3.125\n"
          ],
          "name": "stdout"
        }
      ]
    },
    {
      "cell_type": "markdown",
      "metadata": {
        "id": "LOgwsYn_G-zI",
        "colab_type": "text"
      },
      "source": [
        "20. Faça um programa que receba o salário de um funcionário e o percentual de aumento, calcule e mostre o valor do aumento e o novo salário. "
      ]
    },
    {
      "cell_type": "code",
      "metadata": {
        "id": "mMlliMmmG-zJ",
        "colab_type": "code",
        "outputId": "ccc793ca-7687-4144-d97a-dddf3cc909e7",
        "colab": {
          "base_uri": "https://localhost:8080/",
          "height": 68
        }
      },
      "source": [
        "a = float(input('Digite seu salário: '))\n",
        "b = float(input('Digite seu aumento: '))\n",
        "\n",
        "aumento = b/100\n",
        "novosal = a+(a*aumento)\n",
        "\n",
        "print('Seu novo salário é '+ str(novosal))"
      ],
      "execution_count": 0,
      "outputs": [
        {
          "output_type": "stream",
          "text": [
            "Digite seu salário: 2.500\n",
            "Digite seu aumento: 25\n",
            "Seu novo salário é 3.125\n"
          ],
          "name": "stdout"
        }
      ]
    },
    {
      "cell_type": "markdown",
      "metadata": {
        "id": "IkYanHCZG-zM",
        "colab_type": "text"
      },
      "source": [
        "21. Faça um programa que receba o salário base de um funcionário, calcule e mostre o salário a receber, sabendo-se que o funcionário tem gratificação de 5% sobre o salário base e paga imposto de 7% também sobre o salário base."
      ]
    },
    {
      "cell_type": "code",
      "metadata": {
        "id": "ebKOgG_QG-zM",
        "colab_type": "code",
        "outputId": "9bc87818-29fd-4b50-e7ca-7da406765f24",
        "colab": {
          "base_uri": "https://localhost:8080/",
          "height": 51
        }
      },
      "source": [
        "a = float(input('Digite seu salário: '))\n",
        "\n",
        "grat = (5/100)\n",
        "imp = (7/100)\n",
        "\n",
        "salario = (a-(a*imp))+(a*grat)\n",
        "\n",
        "print('Seu novo salário é '+str(salario))\n"
      ],
      "execution_count": 0,
      "outputs": [
        {
          "output_type": "stream",
          "text": [
            "Digite seu salário: 2.500\n",
            "Seu novo salário é 2.45\n"
          ],
          "name": "stdout"
        }
      ]
    },
    {
      "cell_type": "markdown",
      "metadata": {
        "id": "cjQx7ZEIG-zP",
        "colab_type": "text"
      },
      "source": [
        "22. Faça um programa que receba o salário base de um funcionário, calcule e mostre seu salário a receber, sabendo-se que o funcionário tem gratificação de R$ 50,00 e paga imposto de 10% sobre o salário base."
      ]
    },
    {
      "cell_type": "code",
      "metadata": {
        "id": "Rue6Xa9vG-zQ",
        "colab_type": "code",
        "outputId": "153798e9-140c-4b22-a098-fbabfbb94a75",
        "colab": {
          "base_uri": "https://localhost:8080/",
          "height": 51
        }
      },
      "source": [
        "a = float(input('Digite seu salário: '))\n",
        "\n",
        "grat = 50\n",
        "imp = (7/100)\n",
        "\n",
        "salario = (a-(a*imp))+(grat)\n",
        "\n",
        "print('Seu novo salário é '+str(salario))"
      ],
      "execution_count": 0,
      "outputs": [
        {
          "output_type": "stream",
          "text": [
            "Digite seu salário: 2500\n",
            "Seu novo salário é 2375.0\n"
          ],
          "name": "stdout"
        }
      ]
    },
    {
      "cell_type": "markdown",
      "metadata": {
        "id": "tlnwgQlEG-zT",
        "colab_type": "text"
      },
      "source": [
        "23. Faça um programa que receba o valor de um depósito e o valor da taxa de juros, calcule e mostre o valor do rendimento e o valor total depois do rendimento."
      ]
    },
    {
      "cell_type": "code",
      "metadata": {
        "id": "b_FiiaFVG-zU",
        "colab_type": "code",
        "outputId": "fc314837-9de0-4f77-ff03-8737597a7eba",
        "colab": {
          "base_uri": "https://localhost:8080/",
          "height": 68
        }
      },
      "source": [
        "a = float(input('Digite o valor do depósito: '))\n",
        "b = float(input('Digite o valor da taxa de juros: '))\n",
        "\n",
        "juros = b/100\n",
        "valorjuros = a*juros\n",
        "valor = a+(valorjuros)\n",
        "\n",
        "print('O valor do rendimento foi '+str(valorjuros)+', e o valor total é '+str(valor))"
      ],
      "execution_count": 0,
      "outputs": [
        {
          "output_type": "stream",
          "text": [
            "Digite o valor do depósito: 250\n",
            "Digite o valor da taxa de juros: 25\n",
            "O valor do rendimento foi 62.5, e o valor total é 312.5\n"
          ],
          "name": "stdout"
        }
      ]
    },
    {
      "cell_type": "markdown",
      "metadata": {
        "id": "lbFIyUkFG-zW",
        "colab_type": "text"
      },
      "source": [
        "24. Faça um programa que calcule e mostre a área de um triângulo. Sabe-se que: \n",
        "> Área = (base * altura) / 2."
      ]
    },
    {
      "cell_type": "code",
      "metadata": {
        "id": "kk3-YlyqG-zX",
        "colab_type": "code",
        "outputId": "dbd8236f-4671-4693-fb7a-86682ab9cb69",
        "colab": {
          "base_uri": "https://localhost:8080/",
          "height": 68
        }
      },
      "source": [
        "a = float(input('Digite a base do triângulo: '))\n",
        "b = float(input('Digite a altura do triângulo: '))\n",
        "\n",
        "area = (a*b)/2\n",
        "\n",
        "print('A área do triângulo é '+str(area))"
      ],
      "execution_count": 0,
      "outputs": [
        {
          "output_type": "stream",
          "text": [
            "Digite a base do triângulo: 10\n",
            "Digite a altura do triângulo: 10\n",
            "A área do triângulo é 50.0\n"
          ],
          "name": "stdout"
        }
      ]
    },
    {
      "cell_type": "markdown",
      "metadata": {
        "id": "kYpzuUjgG-za",
        "colab_type": "text"
      },
      "source": [
        "25. Escreva um programa que receba como entrada o raio de um círculo e imprima o diâmetro, a circunferência e a área. Para isso, utilize as fórmulas: diâmetro = 2r; circunferência = 2πr, área = πr²."
      ]
    },
    {
      "cell_type": "code",
      "metadata": {
        "id": "LjNSSmxdG-zb",
        "colab_type": "code",
        "outputId": "498eb184-3a88-4d1e-dea5-34660a5bff99",
        "colab": {
          "base_uri": "https://localhost:8080/",
          "height": 51
        }
      },
      "source": [
        "a = float(input('Digite a raio do círculo: '))\n",
        "\n",
        "pi = 3.14\n",
        "diam = (2*a)\n",
        "circ = (2*pi)*a\n",
        "area = pi*(a*a)\n",
        "\n",
        "print('O diâmetro é '+str(diam)+', a circunferência é '+str(circ)+' e o área é '\n",
        "+str(area))\n"
      ],
      "execution_count": 0,
      "outputs": [
        {
          "output_type": "stream",
          "text": [
            "Digite a raio do círculo: 20\n",
            "O diâmetro é 40.0, a circunferência é 125.60000000000001 e o área é 1256.0\n"
          ],
          "name": "stdout"
        }
      ]
    },
    {
      "cell_type": "markdown",
      "metadata": {
        "id": "RtgC_F4TG-zd",
        "colab_type": "text"
      },
      "source": [
        "26. Faça um programa que receba um número positivo e maior que zero, calcule e mostre:\n",
        "    1. o número digitado ao quadrado;\n",
        "    2. o número digitado ao cubo;\n",
        "    3. a raiz quadrada do número digitado.\n"
      ]
    },
    {
      "cell_type": "code",
      "metadata": {
        "id": "f9inTVWlG-zd",
        "colab_type": "code",
        "outputId": "37d91545-14ad-48de-f303-07e586586a66",
        "colab": {
          "base_uri": "https://localhost:8080/",
          "height": 51
        }
      },
      "source": [
        "a = int(input('Digite um número positivo e maior que zero: '))\n",
        "\n",
        "quad = a*a\n",
        "cub = a*a*a\n",
        "raiz = a**(1/2)\n",
        "\n",
        "print('O número digitado ao quadrado é '+str(quad)+', o número ao cubo é '+str\n",
        "      (cub)+' e a raiz quadrada é '+str(raiz))"
      ],
      "execution_count": 0,
      "outputs": [
        {
          "output_type": "stream",
          "text": [
            "Digite um número positivo e maior que zero: 25\n",
            "O número digitado ao quadrado é 625, o número ao cubo é 15625 e a raiz quadrada é 5.0\n"
          ],
          "name": "stdout"
        }
      ]
    },
    {
      "cell_type": "markdown",
      "metadata": {
        "id": "8OvMHJXxG-zf",
        "colab_type": "text"
      },
      "source": [
        "27. Faça um programa que receba dois números maiores que zero, calcule e mostre um elevado ao outro."
      ]
    },
    {
      "cell_type": "code",
      "metadata": {
        "id": "MqWgCRMHG-zh",
        "colab_type": "code",
        "outputId": "df77ce4d-bb47-450b-f2fc-5af86272daae",
        "colab": {
          "base_uri": "https://localhost:8080/",
          "height": 68
        }
      },
      "source": [
        "a = int(input('Digite um número maior que zero: '))\n",
        "b = int(input('Digite outro número maior que zero: '))\n",
        "\n",
        "elev = a**b\n",
        "\n",
        "print('O valor de um elevado aou outro é '+str(elev))"
      ],
      "execution_count": 0,
      "outputs": [
        {
          "output_type": "stream",
          "text": [
            "Digite um número maior que zero: 5\n",
            "Digite outro número maior que zero: 5\n",
            "O valor de um elevado aou outro é 3125\n"
          ],
          "name": "stdout"
        }
      ]
    },
    {
      "cell_type": "markdown",
      "metadata": {
        "id": "Bw4MkZc_G-zl",
        "colab_type": "text"
      },
      "source": [
        "28. Sabe-se que: pé = 12 polegadas; 1 jarda = 3 pés e 1 milha = 1,760 jarda. Faça um programa que receba uma medida em pés, faça as conversões a seguir e mostre os resultados.\n",
        "    1. polegadas;\n",
        "    2. jardas;\n",
        "    3. milhas.\n"
      ]
    },
    {
      "cell_type": "code",
      "metadata": {
        "id": "BPeXWKHZG-zm",
        "colab_type": "code",
        "outputId": "daa7b7d4-c54e-4868-e6d1-d5ca8a751f49",
        "colab": {
          "base_uri": "https://localhost:8080/",
          "height": 51
        }
      },
      "source": [
        "a = float(input('Digite uma medida, em pés: '))\n",
        "\n",
        "pol = a*12\n",
        "jar = a/3\n",
        "mil = a/5280\n",
        "\n",
        "print('Os valores em polegadas, jardas e milhas, respectivamente, são '+str(pol)\n",
        "+', '+str(jar)+' e '+str(mil))"
      ],
      "execution_count": 0,
      "outputs": [
        {
          "output_type": "stream",
          "text": [
            "Digite uma medida, em pés: 20\n",
            "Os valores em polegadas, jardas e milhas, respectivamente, são 240.0, 6.666666666666667 e 0.003787878787878788\n"
          ],
          "name": "stdout"
        }
      ]
    },
    {
      "cell_type": "markdown",
      "metadata": {
        "id": "pXY34QcAG-zo",
        "colab_type": "text"
      },
      "source": [
        "29. Escreva um programa que receba como entrada um número de 5 dígitos, separe o número em dígitos individuais e os imprima separados por 3 espaços cada um. Por exemplo, se o usuário digitar 42339, o programa deverá imprimir: 4    2    3    3.   Dica: utilize as operações de divisão e módulo para extrair cada dígito do número."
      ]
    },
    {
      "cell_type": "code",
      "metadata": {
        "id": "6W7aUcXNG-zo",
        "colab_type": "code",
        "outputId": "7f03edac-7642-4c66-f00a-afba4571d378",
        "colab": {
          "base_uri": "https://localhost:8080/",
          "height": 51
        }
      },
      "source": [
        "a = int(input('Digite uma sequência de 5 dígitos: '))\n",
        "\n",
        "b = (a/10000) % 10\n",
        "c = (a/1000) % 10\n",
        "d = (a/100) % 10\n",
        "e = (a/10) % 10\n",
        "f = a/1 % 10\n",
        "\n",
        "print(int(b), int(c), int(d), int(e), int(f),sep='   ')"
      ],
      "execution_count": 0,
      "outputs": [
        {
          "output_type": "stream",
          "text": [
            "Digite uma sequência de 5 dígitos: 42339\n",
            "4   2   3   3   9\n"
          ],
          "name": "stdout"
        }
      ]
    }
  ]
}